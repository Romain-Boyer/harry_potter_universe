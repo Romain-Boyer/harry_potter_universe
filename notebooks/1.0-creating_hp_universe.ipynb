{
 "cells": [
  {
   "cell_type": "markdown",
   "metadata": {},
   "source": [
    "# Day 1 - Creating the Magical Universe\n",
    "\n",
    ">File: day_1.py\n",
    ">\n",
    ">Author: Anna-Lena Popkes\n",
    ">\n",
    ">Email: popkes@gmx.net\n",
    ">\n",
    ">Github: https://github.com/zotroneneis\n",
    ">\n",
    ">Description: all code for day 1 of my new coding habit\n",
    ">\n",
    ">Link to blog post with explanations: http://www.alpopkes.com/posts/2018/07/coding-challenge-day-1/"
   ]
  },
  {
   "cell_type": "code",
   "execution_count": 1,
   "metadata": {},
   "outputs": [],
   "source": [
    "class HogwartsMember:\n",
    "    \"\"\"\n",
    "    Creates a member of the Hogwarts School of Witchcraft and Wizardry\n",
    "    \"\"\"\n",
    "    \n",
    "    location = 'England'\n",
    "    \n",
    "    def __init__(self, name, birthyear, sex):\n",
    "        self._name = name\n",
    "        self.birthyear = birthyear\n",
    "        self.sex = sex\n",
    "        \n",
    "    def says(self, words):\n",
    "        return f'{self._name} says \"{words}\"'\n",
    "    \n",
    "\n",
    "class Pupil(HogwartsMember):\n",
    "    \"\"\"\n",
    "    Creates a Hogwarts pupil\n",
    "    \"\"\"\n",
    "    def __init__(self, name, birthyear, sex, house, start_year, pet=None):\n",
    "        super().__init__(name, birthyear, sex)\n",
    "        self.house = house\n",
    "        self.start_year = start_year\n",
    "        \n",
    "        if pet is not None:\n",
    "            self.pet_name, self_pet_type = pet\n",
    "            \n",
    "        self._owls = {\n",
    "                'Study of Ancient Runes': False,\n",
    "                'Arithmancy': False,\n",
    "                'Astronomy': False,\n",
    "                'Care of Magical Creatures': False,\n",
    "                'Charms': False,\n",
    "                'Defence Against the Dark Arts': False,\n",
    "                'Divination': False,\n",
    "                'Herbology': False,\n",
    "                'History of Magic': False,\n",
    "                'Muggle Studies': False,\n",
    "                'Potions': False,\n",
    "                'Transfiguration': False\n",
    "        }\n",
    "\n",
    "class Professor(HogwartsMember):\n",
    "    \"\"\"\n",
    "    Creates a Hogwarts professor\n",
    "    \"\"\"\n",
    "    \n",
    "    def __init__(self, name, birthyear, sex, subject, house=None):\n",
    "        super().__init__(name, birthyear, sex)\n",
    "        self.subject = subject\n",
    "        \n",
    "        if house is not None:\n",
    "            self.house = house\n",
    "            \n",
    "class Ghost(HogwartsMember):\n",
    "    \"\"\"\n",
    "    Creates a Hogwarts ghost\n",
    "    \"\"\"\n",
    "    \n",
    "    def __init__(self, name, birthyear, sex, year_of_death, house=None):\n",
    "        super().__init__(name, birthyear, sex)\n",
    "        self.year_of_death = year_of_death\n",
    "        \n",
    "        if house is not None:\n",
    "            self.house = house\n",
    "        "
   ]
  },
  {
   "cell_type": "code",
   "execution_count": 2,
   "metadata": {},
   "outputs": [],
   "source": [
    "hagrid = HogwartsMember('Hagrid', '1952', 'male')"
   ]
  },
  {
   "cell_type": "code",
   "execution_count": 3,
   "metadata": {},
   "outputs": [
    {
     "data": {
      "text/plain": [
       "'Hagrid says \"Comment vas tu Harry ?\"'"
      ]
     },
     "execution_count": 3,
     "metadata": {},
     "output_type": "execute_result"
    }
   ],
   "source": [
    "hagrid.says(\"Comment vas tu Harry ?\")"
   ]
  },
  {
   "cell_type": "code",
   "execution_count": 4,
   "metadata": {},
   "outputs": [],
   "source": [
    "harry = Pupil(\n",
    "    name = 'Harry',\n",
    "    birthyear = '1980',\n",
    "    sex = 'male',\n",
    "    house = 'Griffindor',\n",
    "    start_year = '1991',\n",
    "    pet = ('Hedwig', 'owl')\n",
    ")"
   ]
  },
  {
   "cell_type": "code",
   "execution_count": 5,
   "metadata": {},
   "outputs": [
    {
     "data": {
      "text/plain": [
       "'Harry says \"Salut Hagrid\"'"
      ]
     },
     "execution_count": 5,
     "metadata": {},
     "output_type": "execute_result"
    }
   ],
   "source": [
    "harry.says('Salut Hagrid')"
   ]
  },
  {
   "cell_type": "code",
   "execution_count": 6,
   "metadata": {},
   "outputs": [],
   "source": [
    "nick = Ghost('nick', '991', 'male', '1514')"
   ]
  },
  {
   "cell_type": "code",
   "execution_count": 7,
   "metadata": {},
   "outputs": [
    {
     "data": {
      "text/plain": [
       "'nick says \"BOUUUUH\"'"
      ]
     },
     "execution_count": 7,
     "metadata": {},
     "output_type": "execute_result"
    }
   ],
   "source": [
    "nick.says('BOUUUUH')"
   ]
  },
  {
   "cell_type": "code",
   "execution_count": null,
   "metadata": {},
   "outputs": [],
   "source": []
  }
 ],
 "metadata": {
  "kernelspec": {
   "display_name": "Python 3",
   "language": "python",
   "name": "python3"
  },
  "language_info": {
   "codemirror_mode": {
    "name": "ipython",
    "version": 3
   },
   "file_extension": ".py",
   "mimetype": "text/x-python",
   "name": "python",
   "nbconvert_exporter": "python",
   "pygments_lexer": "ipython3",
   "version": "3.6.5"
  }
 },
 "nbformat": 4,
 "nbformat_minor": 2
}
