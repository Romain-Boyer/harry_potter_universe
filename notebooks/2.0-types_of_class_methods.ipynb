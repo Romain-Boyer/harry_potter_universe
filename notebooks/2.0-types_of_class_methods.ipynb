{
 "cells": [
  {
   "cell_type": "markdown",
   "metadata": {},
   "source": [
    "# Day 1 - Types of class methods\n",
    "\n",
    "Utiliser une méthode statique permet de créer différentes méthodes de même nom mais appartenant à des classes différentes qui pourront donc faire des actions distinctes. Moi je m'en sers avec ma bdd. J'ai une classe par table et chaque classe possède les méthodes \"insert\", \"update\", etc. Mais les règles d'insertion de la table x ne sont pas les mêmes que pour la table y"
   ]
  },
  {
   "cell_type": "code",
   "execution_count": 1,
   "metadata": {},
   "outputs": [],
   "source": [
    "class HogwartsMember:\n",
    "    \"\"\"\n",
    "    Creates a member of the Hogwarts School of Witchcraft and Wizardry\n",
    "    \"\"\"\n",
    "    \n",
    "    location = 'England'\n",
    "    \n",
    "    def __init__(self, name, birthyear, sex):\n",
    "        self._name = name\n",
    "        self.birthyear = birthyear\n",
    "        self.sex = sex\n",
    "        \n",
    "    def says(self, words):\n",
    "        return f'{self._name} says \"{words}\"'\n",
    "    \n",
    "    @staticmethod\n",
    "    def is_full_name(name_str):\n",
    "        names = name_str.split(' ')\n",
    "        return len(names) > 1\n",
    "    \n",
    "    @classmethod\n",
    "    def dumbledore(cls):\n",
    "        return cls('Albus Percival Wulfric Brian Dumbledore', 1881, 'male')\n",
    "    \n",
    "\n",
    "class Pupil(HogwartsMember):\n",
    "    \"\"\"\n",
    "    Creates a Hogwarts pupil\n",
    "    \"\"\"\n",
    "    def __init__(self, name, birthyear, sex, house, start_year, pet=None):\n",
    "        super().__init__(name, birthyear, sex)\n",
    "        self.house = house\n",
    "        self.start_year = start_year\n",
    "        \n",
    "        if pet is not None:\n",
    "            self.pet_name, self_pet_type = pet\n",
    "            \n",
    "        self._owls = {\n",
    "                'Study of Ancient Runes': False,\n",
    "                'Arithmancy': False,\n",
    "                'Astronomy': False,\n",
    "                'Care of Magical Creatures': False,\n",
    "                'Charms': False,\n",
    "                'Defence Against the Dark Arts': False,\n",
    "                'Divination': False,\n",
    "                'Herbology': False,\n",
    "                'History of Magic': False,\n",
    "                'Muggle Studies': False,\n",
    "                'Potions': False,\n",
    "                'Transfiguration': False\n",
    "        }\n",
    "\n",
    "    @staticmethod\n",
    "    def passed(grade):\n",
    "        \"\"\"\n",
    "        Given a grade, determine if an exam was passed.\n",
    "        \"\"\"\n",
    "        grades = {\n",
    "                'O': True,\n",
    "                'Ordinary': True,\n",
    "                'P': True,\n",
    "                'Passed': True,\n",
    "                'A': True,\n",
    "                'Acceptable': True,\n",
    "                'Poor': False,\n",
    "                'H': False,\n",
    "                'Horrible': False,\n",
    "                }\n",
    "\n",
    "        return grades.get(grade, False)\n",
    "    \n",
    "    @classmethod\n",
    "    def harry(cls):\n",
    "        return cls('Harry James Potter', 1980, 'male', 'Griffindor', start_year=1991, pet=('Hedwig', 'owl'))\n",
    "\n",
    "    @classmethod\n",
    "    def ron(cls):\n",
    "        return cls('Ronald Bilius Weasley', 1980, 'male', 'Griffindor', 1991, pet=('Pigwidgeon', 'owl'))\n",
    "\n",
    "    @classmethod\n",
    "    def hermione(cls):\n",
    "        return cls('Hermione', 1979, 'female', 'Griffindor', 1991, pet=('Crookshanks', 'cat'))\n",
    "        \n",
    "\n",
    "class Professor(HogwartsMember):\n",
    "    \"\"\"\n",
    "    Creates a Hogwarts professor\n",
    "    \"\"\"\n",
    "    \n",
    "    def __init__(self, name, birthyear, sex, subject, house=None):\n",
    "        super().__init__(name, birthyear, sex)\n",
    "        self.subject = subject\n",
    "        \n",
    "        if house is not None:\n",
    "            self.house = house\n",
    "            \n",
    "    @staticmethod\n",
    "    def saluate_pupil():\n",
    "        return \"Hello student !\"\n",
    "    \n",
    "    @classmethod\n",
    "    def mcgonagall(cls):\n",
    "        return cls('Minerva McGonagall', 1935, 'female', 'Transfiguration', house='Griffindor')\n",
    "    \n",
    "    @classmethod\n",
    "    def snape(cls):\n",
    "        return cls('Severus Snape', 1960, 'male', 'Potions', house='Slytherin')\n",
    "    \n",
    "            \n",
    "class Ghost(HogwartsMember):\n",
    "    \"\"\"\n",
    "    Creates a Hogwarts ghost\n",
    "    \"\"\"\n",
    "    \n",
    "    def __init__(self, name, birthyear, sex, year_of_death, house=None):\n",
    "        super().__init__(name, birthyear, sex)\n",
    "        self.year_of_death = year_of_death\n",
    "        \n",
    "        if house is not None:\n",
    "            self.house = house\n",
    "            \n",
    "    @staticmethod\n",
    "    def saluate_pupil():\n",
    "        return \"BoooOOOooooh ! I'am a ghoooost\""
   ]
  },
  {
   "cell_type": "code",
   "execution_count": 2,
   "metadata": {},
   "outputs": [],
   "source": [
    "hagrid = HogwartsMember('Hagrid', 1952, 'male')\n",
    "dumby = HogwartsMember.dumbledore()\n",
    "\n",
    "harry = Pupil.harry()\n",
    "ron = Pupil.ron()\n",
    "hermione = Pupil.hermione()\n",
    "\n",
    "snape = Professor.snape()\n",
    "mcgonagall = Professor.mcgonagall()\n",
    "\n",
    "nick = Ghost('Nick quasi sans tête', 541, 'male', 589)"
   ]
  },
  {
   "cell_type": "code",
   "execution_count": 3,
   "metadata": {},
   "outputs": [
    {
     "data": {
      "text/plain": [
       "'Hello student !'"
      ]
     },
     "execution_count": 3,
     "metadata": {},
     "output_type": "execute_result"
    }
   ],
   "source": [
    "snape.saluate_pupil()"
   ]
  },
  {
   "cell_type": "code",
   "execution_count": 4,
   "metadata": {},
   "outputs": [
    {
     "data": {
      "text/plain": [
       "\"BoooOOOooooh ! I'am a ghoooost\""
      ]
     },
     "execution_count": 4,
     "metadata": {},
     "output_type": "execute_result"
    }
   ],
   "source": [
    "nick.saluate_pupil()"
   ]
  },
  {
   "cell_type": "code",
   "execution_count": 5,
   "metadata": {},
   "outputs": [
    {
     "data": {
      "text/plain": [
       "True"
      ]
     },
     "execution_count": 5,
     "metadata": {},
     "output_type": "execute_result"
    }
   ],
   "source": [
    "harry.passed('Passed')"
   ]
  },
  {
   "cell_type": "code",
   "execution_count": 6,
   "metadata": {},
   "outputs": [
    {
     "data": {
      "text/plain": [
       "False"
      ]
     },
     "execution_count": 6,
     "metadata": {},
     "output_type": "execute_result"
    }
   ],
   "source": [
    "HogwartsMember.is_full_name('Jo')"
   ]
  },
  {
   "cell_type": "code",
   "execution_count": 7,
   "metadata": {},
   "outputs": [
    {
     "data": {
      "text/plain": [
       "False"
      ]
     },
     "execution_count": 7,
     "metadata": {},
     "output_type": "execute_result"
    }
   ],
   "source": [
    "Pupil.is_full_name('Peter')"
   ]
  },
  {
   "cell_type": "code",
   "execution_count": 9,
   "metadata": {},
   "outputs": [
    {
     "data": {
      "text/plain": [
       "True"
      ]
     },
     "execution_count": 9,
     "metadata": {},
     "output_type": "execute_result"
    }
   ],
   "source": [
    "Pupil.is_full_name('George Abitbol')"
   ]
  },
  {
   "cell_type": "code",
   "execution_count": null,
   "metadata": {},
   "outputs": [],
   "source": []
  }
 ],
 "metadata": {
  "kernelspec": {
   "display_name": "Python 3",
   "language": "python",
   "name": "python3"
  },
  "language_info": {
   "codemirror_mode": {
    "name": "ipython",
    "version": 3
   },
   "file_extension": ".py",
   "mimetype": "text/x-python",
   "name": "python",
   "nbconvert_exporter": "python",
   "pygments_lexer": "ipython3",
   "version": "3.6.5"
  }
 },
 "nbformat": 4,
 "nbformat_minor": 2
}
