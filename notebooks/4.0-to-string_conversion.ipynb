{
 "cells": [
  {
   "cell_type": "markdown",
   "metadata": {},
   "source": [
    "# Day 4 - To-string conversion"
   ]
  },
  {
   "cell_type": "code",
   "execution_count": 1,
   "metadata": {},
   "outputs": [],
   "source": [
    "class HogwartsMember:\n",
    "    \"\"\"\n",
    "    Creates a member of the Hogwarts School of Witchcraft and Wizardry\n",
    "    \"\"\"\n",
    "    \n",
    "    location = 'England'\n",
    "    \n",
    "    def __init__(self, name: str, birthyear: int, sex: str):\n",
    "        self._name = name\n",
    "        self.birthyear = birthyear\n",
    "        self.sex = sex\n",
    "        \n",
    "    def __repr__(self):\n",
    "        return f\"{self.__class__.__name__}({self._name}, birthyear: {self.birthyear})\"\n",
    "        \n",
    "    def says(self, words):\n",
    "        return f'{self._name} says \"{words}\"'\n",
    "    \n",
    "    @staticmethod\n",
    "    def is_full_name(name_str):\n",
    "        names = name_str.split(' ')\n",
    "        return len(names) > 1\n",
    "    \n",
    "    @classmethod\n",
    "    def dumbledore(cls):\n",
    "        return cls('Albus Percival Wulfric Brian Dumbledore', 1881, 'male')\n",
    "    \n",
    "\n",
    "class Pupil(HogwartsMember):\n",
    "    \"\"\"\n",
    "    Creates a Hogwarts pupil\n",
    "    \"\"\"\n",
    "    def __init__(self, name: str, birthyear: int, sex: str, house: str, start_year: int, pet: tuple = None):\n",
    "        super().__init__(name, birthyear, sex)\n",
    "        self.house = house\n",
    "        self.start_year = start_year\n",
    "        \n",
    "        if pet is not None:\n",
    "            self.pet_name, self_pet_type = pet\n",
    "            \n",
    "        self._owls = {\n",
    "                'Study of Ancient Runes': False,\n",
    "                'Arithmancy': False,\n",
    "                'Astronomy': False,\n",
    "                'Care of Magical Creatures': False,\n",
    "                'Charms': False,\n",
    "                'Defence Against the Dark Arts': False,\n",
    "                'Divination': False,\n",
    "                'Herbology': False,\n",
    "                'History of Magic': False,\n",
    "                'Muggle Studies': False,\n",
    "                'Potions': False,\n",
    "                'Transfiguration': False\n",
    "        }\n",
    "        \n",
    "    def __repr__(self):\n",
    "        return (f\"{self.__class__.__name__}\"\n",
    "                f\"({self._name}, birthyear: {self.birthyear}, house: {self.house})\")\n",
    "\n",
    "    @staticmethod\n",
    "    def passed(grade):\n",
    "        \"\"\"\n",
    "        Given a grade, determine if an exam was passed.\n",
    "        \"\"\"\n",
    "        grades = {\n",
    "                'O': True,\n",
    "                'Ordinary': True,\n",
    "                'P': True,\n",
    "                'Passed': True,\n",
    "                'A': True,\n",
    "                'Acceptable': True,\n",
    "                'Poor': False,\n",
    "                'H': False,\n",
    "                'Horrible': False,\n",
    "                }\n",
    "\n",
    "        return grades.get(grade, False)\n",
    "    \n",
    "    @classmethod\n",
    "    def harry(cls):\n",
    "        return cls('Harry James Potter', 1980, 'male', 'Griffindor', start_year=1991, pet=('Hedwig', 'owl'))\n",
    "\n",
    "    @classmethod\n",
    "    def ron(cls):\n",
    "        return cls('Ronald Bilius Weasley', 1980, 'male', 'Griffindor', 1991, pet=('Pigwidgeon', 'owl'))\n",
    "\n",
    "    @classmethod\n",
    "    def hermione(cls):\n",
    "        return cls('Hermione', 1979, 'female', 'Griffindor', 1991, pet=('Crookshanks', 'cat'))\n",
    "        \n",
    "\n",
    "class Professor(HogwartsMember):\n",
    "    \"\"\"\n",
    "    Creates a Hogwarts professor\n",
    "    \"\"\"\n",
    "    \n",
    "    def __init__(self, name: str, birthyear: int, sex: str, subject: str, house: str = None):\n",
    "        super().__init__(name, birthyear, sex)\n",
    "        self.subject = subject\n",
    "        \n",
    "        if house is not None:\n",
    "            self.house = house\n",
    "            \n",
    "    def __repr__(self):\n",
    "        return (f\"{self.__class__.__name__}({self._name}, \"\n",
    "                f\"birthyear: {self.birthyear}, subject: {self.subject})\")    \n",
    "        \n",
    "    @staticmethod\n",
    "    def saluate_pupil():\n",
    "        return \"Hello student !\"\n",
    "    \n",
    "    @classmethod\n",
    "    def mcgonagall(cls):\n",
    "        return cls('Minerva McGonagall', 1935, 'female', 'Transfiguration', house='Griffindor')\n",
    "    \n",
    "    @classmethod\n",
    "    def snape(cls):\n",
    "        return cls('Severus Snape', 1960, 'male', 'Potions', house='Slytherin')\n",
    "    \n",
    "            \n",
    "class Ghost(HogwartsMember):\n",
    "    \"\"\"\n",
    "    Creates a Hogwarts ghost\n",
    "    \"\"\"\n",
    "    \n",
    "    def __init__(self, name: str, birthyear: int, sex: str, year_of_death: int, house: str = None):\n",
    "        super().__init__(name, birthyear, sex)\n",
    "        self.year_of_death = year_of_death\n",
    "        \n",
    "        if house is not None:\n",
    "            self.house = house\n",
    "            \n",
    "    def __repr__(self):\n",
    "        return (f\"{self.__class__.__name__}({self._name}, \"\n",
    "                f\"birthyear: {self.birthyear}, year of death: {self.year_of_death})\")\n",
    "            \n",
    "    @staticmethod\n",
    "    def saluate_pupil():\n",
    "        return \"BoooOOOooooh ! I'am a ghoooost\""
   ]
  },
  {
   "cell_type": "code",
   "execution_count": 2,
   "metadata": {},
   "outputs": [],
   "source": [
    "hagrid = HogwartsMember('Hagrid', 1952, 'male')\n",
    "dumby = HogwartsMember.dumbledore()\n",
    "\n",
    "harry = Pupil.harry()\n",
    "ron = Pupil.ron()\n",
    "hermione = Pupil.hermione()\n",
    "\n",
    "snape = Professor.snape()\n",
    "mcgonagall = Professor.mcgonagall()\n",
    "\n",
    "nick = Ghost('Nick quasi sans tête', 541, 'male', 589)"
   ]
  },
  {
   "cell_type": "code",
   "execution_count": 3,
   "metadata": {},
   "outputs": [
    {
     "name": "stdout",
     "output_type": "stream",
     "text": [
      "Professor(Severus Snape, birthyear: 1960, subject: Potions)\n"
     ]
    }
   ],
   "source": [
    "print(snape)"
   ]
  },
  {
   "cell_type": "code",
   "execution_count": 4,
   "metadata": {},
   "outputs": [
    {
     "name": "stdout",
     "output_type": "stream",
     "text": [
      "Ghost(Nick quasi sans tête, birthyear: 541, year of death: 589)\n"
     ]
    }
   ],
   "source": [
    "print(nick)"
   ]
  },
  {
   "cell_type": "code",
   "execution_count": 5,
   "metadata": {},
   "outputs": [
    {
     "name": "stdout",
     "output_type": "stream",
     "text": [
      "Pupil(Harry James Potter, birthyear: 1980, house: Griffindor)\n"
     ]
    }
   ],
   "source": [
    "print(harry)"
   ]
  },
  {
   "cell_type": "code",
   "execution_count": 6,
   "metadata": {},
   "outputs": [
    {
     "name": "stdout",
     "output_type": "stream",
     "text": [
      "HogwartsMember(Hagrid, birthyear: 1952)\n"
     ]
    }
   ],
   "source": [
    "print(hagrid)"
   ]
  },
  {
   "cell_type": "code",
   "execution_count": null,
   "metadata": {},
   "outputs": [],
   "source": []
  }
 ],
 "metadata": {
  "kernelspec": {
   "display_name": "Python 3",
   "language": "python",
   "name": "python3"
  },
  "language_info": {
   "codemirror_mode": {
    "name": "ipython",
    "version": 3
   },
   "file_extension": ".py",
   "mimetype": "text/x-python",
   "name": "python",
   "nbconvert_exporter": "python",
   "pygments_lexer": "ipython3",
   "version": "3.6.5"
  }
 },
 "nbformat": 4,
 "nbformat_minor": 2
}
