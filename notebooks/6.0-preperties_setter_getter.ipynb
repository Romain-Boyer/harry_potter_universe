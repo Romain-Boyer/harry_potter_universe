{
 "cells": [
  {
   "cell_type": "markdown",
   "metadata": {},
   "source": [
    "# Day 6 - Properties, setter and getter methods\n",
    "\n",
    "* The `@property` decorator allows us to create a read-only property."
   ]
  },
  {
   "cell_type": "code",
   "execution_count": 1,
   "metadata": {},
   "outputs": [],
   "source": [
    "import datetime"
   ]
  },
  {
   "cell_type": "code",
   "execution_count": 2,
   "metadata": {},
   "outputs": [],
   "source": [
    "class HogwartsMember:\n",
    "    \"\"\"\n",
    "    Creates a member of the Hogwarts School of Witchcraft and Wizardry\n",
    "    \"\"\"\n",
    "    \n",
    "    location = 'England'\n",
    "    \n",
    "    def __init__(self, name: str, birthyear: int, sex: str):\n",
    "        self._name = name\n",
    "        self.birthyear = birthyear\n",
    "        self.sex = sex\n",
    "        \n",
    "    def __repr__(self):\n",
    "        return f\"{self.__class__.__name__}({self._name}, birthyear: {self.birthyear})\"\n",
    "        \n",
    "    def says(self, words):\n",
    "        return f'{self._name} says \"{words}\"'\n",
    "    \n",
    "    @staticmethod\n",
    "    def is_full_name(name_str):\n",
    "        names = name_str.split(' ')\n",
    "        return len(names) > 1\n",
    "    \n",
    "    @classmethod\n",
    "    def dumbledore(cls):\n",
    "        return cls('Albus Percival Wulfric Brian Dumbledore', 1881, 'male')\n",
    "    \n",
    "    @property\n",
    "    def age(self):\n",
    "        now = datetime.datetime.now().year\n",
    "        return now - self.birthyear\n",
    "\n",
    "class Pupil(HogwartsMember):\n",
    "    \"\"\"\n",
    "    Creates a Hogwarts pupil\n",
    "    \"\"\"\n",
    "    def __init__(self, name: str, birthyear: int, sex: str, house: str, start_year: int, pet: tuple = None):\n",
    "        super().__init__(name, birthyear, sex)\n",
    "        self.house = house\n",
    "        self.start_year = start_year\n",
    "        \n",
    "        if pet is not None:\n",
    "            self.pet_name, self_pet_type = pet\n",
    "            \n",
    "        self._owls = {\n",
    "                'Study of Ancient Runes': False,\n",
    "                'Arithmancy': False,\n",
    "                'Astronomy': False,\n",
    "                'Care of Magical Creatures': False,\n",
    "                'Charms': False,\n",
    "                'Defence Against the Dark Arts': False,\n",
    "                'Divination': False,\n",
    "                'Herbology': False,\n",
    "                'History of Magic': False,\n",
    "                'Muggle Studies': False,\n",
    "                'Potions': False,\n",
    "                'Transfiguration': False\n",
    "        }\n",
    "        \n",
    "    def __repr__(self):\n",
    "        return (f\"{self.__class__.__name__}\"\n",
    "                f\"({self._name}, birthyear: {self.birthyear}, house: {self.house})\")\n",
    "\n",
    "    @staticmethod\n",
    "    def passed(grade):\n",
    "        \"\"\"\n",
    "        Given a grade, determine if an exam was passed.\n",
    "        \"\"\"\n",
    "        grades = {\n",
    "                'O': True,\n",
    "                'Ordinary': True,\n",
    "                'P': True,\n",
    "                'Passed': True,\n",
    "                'A': True,\n",
    "                'Acceptable': True,\n",
    "                'Poor': False,\n",
    "                'H': False,\n",
    "                'Horrible': False,\n",
    "                }\n",
    "\n",
    "        return grades.get(grade, False)\n",
    "    \n",
    "    @classmethod\n",
    "    def harry(cls):\n",
    "        return cls('Harry James Potter', 1980, 'male', 'Griffindor', start_year=1991, pet=('Hedwig', 'owl'))\n",
    "\n",
    "    @classmethod\n",
    "    def ron(cls):\n",
    "        return cls('Ronald Bilius Weasley', 1980, 'male', 'Griffindor', 1991, pet=('Pigwidgeon', 'owl'))\n",
    "\n",
    "    @classmethod\n",
    "    def hermione(cls):\n",
    "        return cls('Hermione', 1979, 'female', 'Griffindor', 1991, pet=('Crookshanks', 'cat'))\n",
    "    \n",
    "    @property\n",
    "    def owls(self):\n",
    "        return self._owls\n",
    "    \n",
    "    @owls.setter\n",
    "    def owls(self, subject_and_grade):\n",
    "        try:\n",
    "            subject, grade = subject_and_grade\n",
    "        except ValueError:\n",
    "            raise ValueError('Pass an interable with two items: subject and grade!')\n",
    "            \n",
    "        passed = self.passed(grade)\n",
    "        \n",
    "        if passed:\n",
    "            self._owls[subject] = True\n",
    "        else:\n",
    "            print('The exam was not passed, so no Owl was awarded!')\n",
    "            \n",
    "    @owls.deleter\n",
    "    def owls(self):\n",
    "        print(\"Caution, you are deleting this students' ELM's! \"\n",
    "              \"You should only do that if she/he dropped out of school without passing any exam!\")\n",
    "        del self._owls\n",
    "        \n",
    "\n",
    "class Professor(HogwartsMember):\n",
    "    \"\"\"\n",
    "    Creates a Hogwarts professor\n",
    "    \"\"\"\n",
    "    \n",
    "    def __init__(self, name: str, birthyear: int, sex: str, subject: str, house: str = None):\n",
    "        super().__init__(name, birthyear, sex)\n",
    "        self.subject = subject\n",
    "        \n",
    "        if house is not None:\n",
    "            self.house = house\n",
    "            \n",
    "    def __repr__(self):\n",
    "        return (f\"{self.__class__.__name__}({self._name}, \"\n",
    "                f\"birthyear: {self.birthyear}, subject: {self.subject})\")    \n",
    "        \n",
    "    @staticmethod\n",
    "    def saluate_pupil():\n",
    "        return \"Hello student !\"\n",
    "    \n",
    "    @classmethod\n",
    "    def mcgonagall(cls):\n",
    "        return cls('Minerva McGonagall', 1935, 'female', 'Transfiguration', house='Griffindor')\n",
    "    \n",
    "    @classmethod\n",
    "    def snape(cls):\n",
    "        return cls('Severus Snape', 1960, 'male', 'Potions', house='Slytherin')\n",
    "    \n",
    "            \n",
    "class Ghost(HogwartsMember):\n",
    "    \"\"\"\n",
    "    Creates a Hogwarts ghost\n",
    "    \"\"\"\n",
    "    \n",
    "    def __init__(self, name: str, birthyear: int, sex: str, year_of_death: int, house: str = None):\n",
    "        super().__init__(name, birthyear, sex)\n",
    "        self.year_of_death = year_of_death\n",
    "        \n",
    "        if house is not None:\n",
    "            self.house = house\n",
    "            \n",
    "    def __repr__(self):\n",
    "        return (f\"{self.__class__.__name__}({self._name}, \"\n",
    "                f\"birthyear: {self.birthyear}, year of death: {self.year_of_death})\")\n",
    "            \n",
    "    @staticmethod\n",
    "    def saluate_pupil():\n",
    "        return \"BoooOOOooooh ! I'am a ghoooost\""
   ]
  },
  {
   "cell_type": "code",
   "execution_count": 3,
   "metadata": {},
   "outputs": [],
   "source": [
    "hagrid = HogwartsMember('Hagrid', 1952, 'male')\n",
    "dumby = HogwartsMember.dumbledore()\n",
    "\n",
    "harry = Pupil.harry()\n",
    "ron = Pupil.ron()\n",
    "hermione = Pupil.hermione()\n",
    "\n",
    "snape = Professor.snape()\n",
    "mcgonagall = Professor.mcgonagall()\n",
    "\n",
    "nick = Ghost('Nick quasi sans tête', 541, 'male', 589)"
   ]
  },
  {
   "cell_type": "code",
   "execution_count": 4,
   "metadata": {},
   "outputs": [
    {
     "data": {
      "text/plain": [
       "38"
      ]
     },
     "execution_count": 4,
     "metadata": {},
     "output_type": "execute_result"
    }
   ],
   "source": [
    "ron.age"
   ]
  },
  {
   "cell_type": "code",
   "execution_count": 5,
   "metadata": {},
   "outputs": [
    {
     "data": {
      "text/plain": [
       "True"
      ]
     },
     "execution_count": 5,
     "metadata": {},
     "output_type": "execute_result"
    }
   ],
   "source": [
    "ron.owls is ron._owls"
   ]
  },
  {
   "cell_type": "code",
   "execution_count": 6,
   "metadata": {},
   "outputs": [
    {
     "data": {
      "text/plain": [
       "{'Arithmancy': False,\n",
       " 'Astronomy': False,\n",
       " 'Care of Magical Creatures': False,\n",
       " 'Charms': False,\n",
       " 'Defence Against the Dark Arts': False,\n",
       " 'Divination': False,\n",
       " 'Herbology': False,\n",
       " 'History of Magic': False,\n",
       " 'Muggle Studies': False,\n",
       " 'Potions': False,\n",
       " 'Study of Ancient Runes': False,\n",
       " 'Transfiguration': False}"
      ]
     },
     "execution_count": 6,
     "metadata": {},
     "output_type": "execute_result"
    }
   ],
   "source": [
    "ron.owls"
   ]
  },
  {
   "cell_type": "code",
   "execution_count": 7,
   "metadata": {},
   "outputs": [],
   "source": [
    "ron.owls = ('Potions', 'P')"
   ]
  },
  {
   "cell_type": "code",
   "execution_count": 8,
   "metadata": {},
   "outputs": [
    {
     "data": {
      "text/plain": [
       "{'Arithmancy': False,\n",
       " 'Astronomy': False,\n",
       " 'Care of Magical Creatures': False,\n",
       " 'Charms': False,\n",
       " 'Defence Against the Dark Arts': False,\n",
       " 'Divination': False,\n",
       " 'Herbology': False,\n",
       " 'History of Magic': False,\n",
       " 'Muggle Studies': False,\n",
       " 'Potions': True,\n",
       " 'Study of Ancient Runes': False,\n",
       " 'Transfiguration': False}"
      ]
     },
     "execution_count": 8,
     "metadata": {},
     "output_type": "execute_result"
    }
   ],
   "source": [
    "ron.owls"
   ]
  },
  {
   "cell_type": "code",
   "execution_count": 9,
   "metadata": {},
   "outputs": [
    {
     "name": "stdout",
     "output_type": "stream",
     "text": [
      "The exam was not passed, so no Owl was awarded!\n"
     ]
    }
   ],
   "source": [
    "ron.owls = ('Flute', 'Psartek')"
   ]
  },
  {
   "cell_type": "code",
   "execution_count": null,
   "metadata": {},
   "outputs": [],
   "source": []
  }
 ],
 "metadata": {
  "kernelspec": {
   "display_name": "Python 3",
   "language": "python",
   "name": "python3"
  },
  "language_info": {
   "codemirror_mode": {
    "name": "ipython",
    "version": 3
   },
   "file_extension": ".py",
   "mimetype": "text/x-python",
   "name": "python",
   "nbconvert_exporter": "python",
   "pygments_lexer": "ipython3",
   "version": "3.6.5"
  }
 },
 "nbformat": 4,
 "nbformat_minor": 2
}
